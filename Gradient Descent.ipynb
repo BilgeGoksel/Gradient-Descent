{
 "cells": [
  {
   "cell_type": "code",
   "execution_count": 1,
   "id": "1bc9e740",
   "metadata": {},
   "outputs": [],
   "source": [
    "import random as rd\n",
    "import pandas as pd\n",
    "import numpy as np"
   ]
  },
  {
   "cell_type": "code",
   "execution_count": 2,
   "id": "444d0248",
   "metadata": {},
   "outputs": [],
   "source": [
    "data =pd.read_csv(\"Boston (1).csv\")"
   ]
  },
  {
   "cell_type": "code",
   "execution_count": 3,
   "id": "ab26c7e7",
   "metadata": {},
   "outputs": [
    {
     "data": {
      "text/html": [
       "<div>\n",
       "<style scoped>\n",
       "    .dataframe tbody tr th:only-of-type {\n",
       "        vertical-align: middle;\n",
       "    }\n",
       "\n",
       "    .dataframe tbody tr th {\n",
       "        vertical-align: top;\n",
       "    }\n",
       "\n",
       "    .dataframe thead th {\n",
       "        text-align: right;\n",
       "    }\n",
       "</style>\n",
       "<table border=\"1\" class=\"dataframe\">\n",
       "  <thead>\n",
       "    <tr style=\"text-align: right;\">\n",
       "      <th></th>\n",
       "      <th>CRIM</th>\n",
       "      <th>ZN</th>\n",
       "      <th>INDUS</th>\n",
       "      <th>CHAS</th>\n",
       "      <th>NX</th>\n",
       "      <th>RM</th>\n",
       "      <th>AGE</th>\n",
       "      <th>DIS</th>\n",
       "      <th>RAD</th>\n",
       "      <th>TAX</th>\n",
       "      <th>PTRATIO</th>\n",
       "      <th>B</th>\n",
       "      <th>LSTAT</th>\n",
       "      <th>MEDV</th>\n",
       "    </tr>\n",
       "  </thead>\n",
       "  <tbody>\n",
       "    <tr>\n",
       "      <th>0</th>\n",
       "      <td>0.00632</td>\n",
       "      <td>18.0</td>\n",
       "      <td>2.31</td>\n",
       "      <td>0</td>\n",
       "      <td>0.538</td>\n",
       "      <td>6.575</td>\n",
       "      <td>65.2</td>\n",
       "      <td>4.0900</td>\n",
       "      <td>1</td>\n",
       "      <td>296.0</td>\n",
       "      <td>15.3</td>\n",
       "      <td>396.90</td>\n",
       "      <td>4.98</td>\n",
       "      <td>24.0</td>\n",
       "    </tr>\n",
       "    <tr>\n",
       "      <th>1</th>\n",
       "      <td>0.02731</td>\n",
       "      <td>0.0</td>\n",
       "      <td>7.07</td>\n",
       "      <td>0</td>\n",
       "      <td>0.469</td>\n",
       "      <td>6.421</td>\n",
       "      <td>78.9</td>\n",
       "      <td>4.9671</td>\n",
       "      <td>2</td>\n",
       "      <td>242.0</td>\n",
       "      <td>17.8</td>\n",
       "      <td>396.90</td>\n",
       "      <td>9.14</td>\n",
       "      <td>21.6</td>\n",
       "    </tr>\n",
       "    <tr>\n",
       "      <th>2</th>\n",
       "      <td>0.02729</td>\n",
       "      <td>0.0</td>\n",
       "      <td>7.07</td>\n",
       "      <td>0</td>\n",
       "      <td>0.469</td>\n",
       "      <td>7.185</td>\n",
       "      <td>61.1</td>\n",
       "      <td>4.9671</td>\n",
       "      <td>2</td>\n",
       "      <td>242.0</td>\n",
       "      <td>17.8</td>\n",
       "      <td>392.83</td>\n",
       "      <td>4.03</td>\n",
       "      <td>34.7</td>\n",
       "    </tr>\n",
       "    <tr>\n",
       "      <th>3</th>\n",
       "      <td>0.03237</td>\n",
       "      <td>0.0</td>\n",
       "      <td>2.18</td>\n",
       "      <td>0</td>\n",
       "      <td>0.458</td>\n",
       "      <td>6.998</td>\n",
       "      <td>45.8</td>\n",
       "      <td>6.0622</td>\n",
       "      <td>3</td>\n",
       "      <td>222.0</td>\n",
       "      <td>18.7</td>\n",
       "      <td>394.63</td>\n",
       "      <td>2.94</td>\n",
       "      <td>33.4</td>\n",
       "    </tr>\n",
       "    <tr>\n",
       "      <th>4</th>\n",
       "      <td>0.06905</td>\n",
       "      <td>0.0</td>\n",
       "      <td>2.18</td>\n",
       "      <td>0</td>\n",
       "      <td>0.458</td>\n",
       "      <td>7.147</td>\n",
       "      <td>54.2</td>\n",
       "      <td>6.0622</td>\n",
       "      <td>3</td>\n",
       "      <td>222.0</td>\n",
       "      <td>18.7</td>\n",
       "      <td>396.90</td>\n",
       "      <td>5.33</td>\n",
       "      <td>36.2</td>\n",
       "    </tr>\n",
       "  </tbody>\n",
       "</table>\n",
       "</div>"
      ],
      "text/plain": [
       "      CRIM    ZN  INDUS  CHAS     NX     RM   AGE     DIS  RAD    TAX  \\\n",
       "0  0.00632  18.0   2.31     0  0.538  6.575  65.2  4.0900    1  296.0   \n",
       "1  0.02731   0.0   7.07     0  0.469  6.421  78.9  4.9671    2  242.0   \n",
       "2  0.02729   0.0   7.07     0  0.469  7.185  61.1  4.9671    2  242.0   \n",
       "3  0.03237   0.0   2.18     0  0.458  6.998  45.8  6.0622    3  222.0   \n",
       "4  0.06905   0.0   2.18     0  0.458  7.147  54.2  6.0622    3  222.0   \n",
       "\n",
       "   PTRATIO       B  LSTAT  MEDV  \n",
       "0     15.3  396.90   4.98  24.0  \n",
       "1     17.8  396.90   9.14  21.6  \n",
       "2     17.8  392.83   4.03  34.7  \n",
       "3     18.7  394.63   2.94  33.4  \n",
       "4     18.7  396.90   5.33  36.2  "
      ]
     },
     "execution_count": 3,
     "metadata": {},
     "output_type": "execute_result"
    }
   ],
   "source": [
    "df=pd.DataFrame(data)\n",
    "df.head()"
   ]
  },
  {
   "cell_type": "code",
   "execution_count": 4,
   "id": "dc399e65",
   "metadata": {},
   "outputs": [
    {
     "name": "stdout",
     "output_type": "stream",
     "text": [
      "<class 'pandas.core.frame.DataFrame'>\n",
      "RangeIndex: 506 entries, 0 to 505\n",
      "Data columns (total 14 columns):\n",
      " #   Column   Non-Null Count  Dtype  \n",
      "---  ------   --------------  -----  \n",
      " 0   CRIM     506 non-null    float64\n",
      " 1   ZN       506 non-null    float64\n",
      " 2   INDUS    506 non-null    float64\n",
      " 3   CHAS     506 non-null    int64  \n",
      " 4   NX       506 non-null    float64\n",
      " 5   RM       506 non-null    float64\n",
      " 6   AGE      506 non-null    float64\n",
      " 7   DIS      506 non-null    float64\n",
      " 8   RAD      506 non-null    int64  \n",
      " 9   TAX      506 non-null    float64\n",
      " 10  PTRATIO  506 non-null    float64\n",
      " 11  B        506 non-null    float64\n",
      " 12  LSTAT    506 non-null    float64\n",
      " 13  MEDV     506 non-null    float64\n",
      "dtypes: float64(12), int64(2)\n",
      "memory usage: 55.5 KB\n"
     ]
    }
   ],
   "source": [
    "# veri seti inceleme\n",
    "df.info()"
   ]
  },
  {
   "cell_type": "code",
   "execution_count": 6,
   "id": "5a410166",
   "metadata": {},
   "outputs": [
    {
     "data": {
      "image/png": "[encoded data removed]",
      "text/plain": [
       "<Figure size 640x480 with 1 Axes>"
      ]
     },
     "metadata": {},
     "output_type": "display_data"
    }
   ],
   "source": [
    "import matplotlib.pyplot as plt\n",
    "import seaborn as sns\n",
    "\n",
    "sns.histplot(df['MEDV'], bins=20, kde=True, color='green')\n",
    "plt.title('Konut Fiyatlarının Dağılımı')\n",
    "plt.xlabel('Medyan Konut Fiyatı ($1000s)')\n",
    "plt.ylabel('Frekans')\n",
    "plt.show()"
   ]
  },
  {
   "cell_type": "code",
   "execution_count": 7,
   "id": "8e895911",
   "metadata": {},
   "outputs": [],
   "source": [
    "#split data\n",
    "x=df.drop(columns=[\"MEDV\"])\n",
    "y=df[\"MEDV\"]"
   ]
  },
  {
   "cell_type": "code",
   "execution_count": 8,
   "id": "e1e94094",
   "metadata": {},
   "outputs": [],
   "source": [
    "from sklearn.model_selection import train_test_split\n",
    "x_train,x_test,y_train,y_test=train_test_split(x,y,random_state=2529)"
   ]
  },
  {
   "cell_type": "code",
   "execution_count": 9,
   "id": "2f02f593",
   "metadata": {},
   "outputs": [
    {
     "data": {
      "text/plain": [
       "array([0.41985264, 0.50231452, 0.29450582, 0.52344059, 0.9312824 ,\n",
       "       0.08708126, 0.13443807, 0.69505782, 0.81051421, 0.92642489,\n",
       "       0.04995825, 0.94496762, 0.81133847])"
      ]
     },
     "execution_count": 9,
     "metadata": {},
     "output_type": "execute_result"
    }
   ],
   "source": [
    "# ağırlıklar\n",
    "w_init = np.random.rand(len(x.keys()))\n",
    "w_init"
   ]
  },
  {
   "cell_type": "code",
   "execution_count": 10,
   "id": "3cf54351",
   "metadata": {},
   "outputs": [
    {
     "data": {
      "text/plain": [
       "0.030908663935225178"
      ]
     },
     "execution_count": 10,
     "metadata": {},
     "output_type": "execute_result"
    }
   ],
   "source": [
    "# bias\n",
    "b_init = rd.random()\n",
    "b_init"
   ]
  },
  {
   "cell_type": "markdown",
   "id": "6320dcdc",
   "metadata": {},
   "source": [
    "### tahmin yapma"
   ]
  },
  {
   "cell_type": "code",
   "execution_count": 11,
   "id": "21ac9adf",
   "metadata": {},
   "outputs": [],
   "source": [
    "def predict(x,w,b):\n",
    "    return np.dot(x,w)+b"
   ]
  },
  {
   "cell_type": "code",
   "execution_count": 12,
   "id": "8c733395",
   "metadata": {},
   "outputs": [],
   "source": [
    "def compute_cost(x_train, y_train, w, b):\n",
    "    m = x_train.shape[0]\n",
    "    predictions = predict(x_train, w, b)\n",
    "    error = predictions - y_train\n",
    "    cost = np.sum(error**2) / (2 * m)\n",
    "    return cost"
   ]
  },
  {
   "cell_type": "code",
   "execution_count": 13,
   "id": "c767ef5c",
   "metadata": {},
   "outputs": [],
   "source": [
    "def compute_gradients(x_train, y_train, w, b):\n",
    "    m = x_train.shape[0]\n",
    "    dw = np.zeros_like(w)\n",
    "    db = 0\n",
    "    \n",
    "    for i in range(m):\n",
    "        x_i = x_train.iloc[i].values.reshape(1, -1)  \n",
    "        y_i = y_train.iloc[i]\n",
    "        \n",
    "        prediction = predict(x_i, w, b) \n",
    "        error = prediction - y_i\n",
    "        \n",
    "        dw += np.dot(x_i.T, error)\n",
    "        db += error\n",
    "        \n",
    "    dw /= m\n",
    "    db /= m\n",
    "    \n",
    "    return dw, db\n"
   ]
  },
  {
   "cell_type": "code",
   "execution_count": 14,
   "id": "7c21a480",
   "metadata": {},
   "outputs": [],
   "source": [
    "def gradient_descent(x_train, y_train, w, b, learning_rate, num_iterations):\n",
    "    costs = []\n",
    "    \n",
    "    for i in range(num_iterations):\n",
    "        dw, db = compute_gradients(x_train, y_train, w, b)\n",
    "        \n",
    "        w -= learning_rate * dw\n",
    "        b -= learning_rate * db\n",
    "        \n",
    "        cost = compute_cost(x_train, y_train, w, b)\n",
    "        costs.append(cost)\n",
    "        \n",
    "        print(f\"Iteration {i}: Cost = {cost}\")\n",
    "    \n",
    "    return w, b, costs\n"
   ]
  },
  {
   "cell_type": "code",
   "execution_count": 15,
   "id": "81a23c1d",
   "metadata": {},
   "outputs": [],
   "source": [
    "learning_rate = 1e-5\n",
    "num_iterations = 100"
   ]
  },
  {
   "cell_type": "code",
   "execution_count": 16,
   "id": "e2a3fb2a",
   "metadata": {},
   "outputs": [
    {
     "name": "stdout",
     "output_type": "stream",
     "text": [
      "Iteration 0: Cost = 1269220.3754277488\n",
      "Iteration 1: Cost = 5723416.826723119\n",
      "Iteration 2: Cost = 25811042.96676994\n",
      "Iteration 3: Cost = 116402376.91929477\n",
      "Iteration 4: Cost = 524951736.20919853\n",
      "Iteration 5: Cost = 2367430079.876483\n",
      "Iteration 6: Cost = 10676649878.760637\n",
      "Iteration 7: Cost = 48149618743.21272\n",
      "Iteration 8: Cost = 217145436561.4253\n",
      "Iteration 9: Cost = 979283780679.2861\n",
      "Iteration 10: Cost = 4416379816972.469\n",
      "Iteration 11: Cost = 19917015959837.883\n",
      "Iteration 12: Cost = 89821877010101.36\n",
      "Iteration 13: Cost = 405079235057680.2\n",
      "Iteration 14: Cost = 1826828743030769.2\n",
      "Iteration 15: Cost = 8238643128396045.0\n",
      "Iteration 16: Cost = 3.715468177080592e+16\n",
      "Iteration 17: Cost = 1.6756040478702323e+17\n",
      "Iteration 18: Cost = 7.556649098917078e+17\n",
      "Iteration 19: Cost = 3.407902104124453e+18\n",
      "Iteration 20: Cost = 1.5368977173970174e+19\n",
      "Iteration 21: Cost = 6.9311104649439805e+19\n",
      "Iteration 22: Cost = 3.125796319004232e+20\n",
      "Iteration 23: Cost = 1.4096734826717805e+21\n",
      "Iteration 24: Cost = 6.357353854652408e+21\n",
      "Iteration 25: Cost = 2.8670432217156236e+22\n",
      "Iteration 26: Cost = 1.2929808569913132e+23\n",
      "Iteration 27: Cost = 5.831092757456218e+23\n",
      "Iteration 28: Cost = 2.629709679165553e+24\n",
      "Iteration 29: Cost = 1.1859480348437813e+25\n",
      "Iteration 30: Cost = 5.348395499674031e+25\n",
      "Iteration 31: Cost = 2.4120225828192792e+26\n",
      "Iteration 32: Cost = 1.0877753786878231e+27\n",
      "Iteration 33: Cost = 4.9056558711668355e+27\n",
      "Iteration 34: Cost = 2.212355601883873e+28\n",
      "Iteration 35: Cost = 9.977294448953623e+28\n",
      "Iteration 36: Cost = 4.499566183499372e+29\n",
      "Iteration 37: Cost = 2.0292170330619525e+30\n",
      "Iteration 38: Cost = 9.151375042263178e+30\n",
      "Iteration 39: Cost = 4.127092558344413e+31\n",
      "Iteration 40: Cost = 1.861238656101408e+32\n",
      "Iteration 41: Cost = 8.393825158977884e+32\n",
      "Iteration 42: Cost = 3.7854522615100527e+33\n",
      "Iteration 43: Cost = 1.707165511881652e+34\n",
      "Iteration 44: Cost = 7.69898517699324e+34\n",
      "Iteration 45: Cost = 3.472092913254141e+35\n",
      "Iteration 46: Cost = 1.5658465266688235e+36\n",
      "Iteration 47: Cost = 7.061663977139527e+36\n",
      "Iteration 48: Cost = 3.1846734195666753e+37\n",
      "Iteration 49: Cost = 1.4362259124941831e+38\n",
      "Iteration 50: Cost = 6.4771001605571526e+38\n",
      "Iteration 51: Cost = 2.921046481958633e+39\n",
      "Iteration 52: Cost = 1.3173352794082695e+40\n",
      "Iteration 53: Cost = 5.940926476493636e+40\n",
      "Iteration 54: Cost = 2.679242555088707e+41\n",
      "Iteration 55: Cost = 1.2082864006818916e+42\n",
      "Iteration 56: Cost = 5.4491371947638585e+42\n",
      "Iteration 57: Cost = 2.4574551323760445e+43\n",
      "Iteration 58: Cost = 1.108264576902999e+44\n",
      "Iteration 59: Cost = 4.998058179114841e+44\n",
      "Iteration 60: Cost = 2.254027249668491e+45\n",
      "Iteration 61: Cost = 1.0165225493929501e+46\n",
      "Iteration 62: Cost = 4.584319437914137e+46\n",
      "Iteration 63: Cost = 2.067439106135698e+47\n",
      "Iteration 64: Cost = 9.323749174695335e+47\n",
      "Iteration 65: Cost = 4.204829947089426e+48\n",
      "Iteration 66: Cost = 1.8962967099034846e+49\n",
      "Iteration 67: Cost = 8.551930178484119e+49\n",
      "Iteration 68: Cost = 3.856754557222733e+50\n",
      "Iteration 69: Cost = 1.7393214636014357e+51\n",
      "Iteration 70: Cost = 7.844002279271655e+51\n",
      "Iteration 71: Cost = 3.537492812272798e+52\n",
      "Iteration 72: Cost = 1.595340612017732e+53\n",
      "Iteration 73: Cost = 7.194676578630002e+53\n",
      "Iteration 74: Cost = 3.244659521681618e+54\n",
      "Iteration 75: Cost = 1.4632784804961843e+55\n",
      "Iteration 76: Cost = 6.599101992598296e+55\n",
      "Iteration 77: Cost = 2.9760669407198613e+56\n",
      "Iteration 78: Cost = 1.3421484386178403e+57\n",
      "Iteration 79: Cost = 6.0528290094462156e+57\n",
      "Iteration 80: Cost = 2.729708425941517e+58\n",
      "Iteration 81: Cost = 1.2310455291281808e+59\n",
      "Iteration 82: Cost = 5.551776447566088e+59\n",
      "Iteration 83: Cost = 2.5037434436383236e+60\n",
      "Iteration 84: Cost = 1.1291397070409986e+61\n",
      "Iteration 85: Cost = 5.0922009651433057e+61\n",
      "Iteration 86: Cost = 2.2964838192927813e+62\n",
      "Iteration 87: Cost = 1.0356696384085342e+63\n",
      "Iteration 88: Cost = 4.670669093813103e+63\n",
      "Iteration 89: Cost = 2.106381125300075e+64\n",
      "Iteration 90: Cost = 9.499370124288129e+64\n",
      "Iteration 91: Cost = 4.284031587368242e+65\n",
      "Iteration 92: Cost = 1.9320151127329823e+66\n",
      "Iteration 93: Cost = 8.713013243960904e+66\n",
      "Iteration 94: Cost = 3.9293998938780727e+67\n",
      "Iteration 95: Cost = 1.772083100724171e+68\n",
      "Iteration 96: Cost = 7.991750905181956e+68\n",
      "Iteration 97: Cost = 3.604124575443252e+69\n",
      "Iteration 98: Cost = 1.625390244194336e+70\n",
      "Iteration 99: Cost = 7.330194588507544e+70\n"
     ]
    }
   ],
   "source": [
    "w, b, costs = gradient_descent(x_train, y_train, w_init, b_init, learning_rate, num_iterations)"
   ]
  }
 ],
 "metadata": {
  "kernelspec": {
   "display_name": "Python 3 (ipykernel)",
   "language": "python",
   "name": "python3"
  },
  "language_info": {
   "codemirror_mode": {
    "name": "ipython",
    "version": 3
   },
   "file_extension": ".py",
   "mimetype": "text/x-python",
   "name": "python",
   "nbconvert_exporter": "python",
   "pygments_lexer": "ipython3",
   "version": "3.11.3"
  }
 },
 "nbformat": 4,
 "nbformat_minor": 5
}
